{
 "cells": [
  {
   "cell_type": "code",
   "execution_count": null,
   "id": "919ac831",
   "metadata": {},
   "outputs": [],
   "source": [
    "# [1] Why Django should be used for web-development? Explain how you can create a project in Django?\n",
    "\n",
    "# Django is a high-level Python web framework that enables rapid development of secure and maintainable websites.\n",
    "# Django Project Setup commands\n",
    "#     》(open Terminal and write)\n",
    "# • python -m venv env\n",
    "# • env\\Scripts\\activate\n",
    "# • pip install django\n",
    "# • django-admin startproject mysite .\n",
    "# • python manage.py startapp myapp\n",
    "# • python manage.py migrate\n",
    "# • python manage.py runserver \n",
    "\n",
    "# 》go to mysite -> setting.py -> APPLICATIONS add application name below in string"
   ]
  },
  {
   "cell_type": "code",
   "execution_count": null,
   "id": "ce39e352",
   "metadata": {},
   "outputs": [],
   "source": [
    "# [2] How to check installed version of django?  \n",
    "\n",
    "# Execute this command in prompt\n",
    "# django-admin --version"
   ]
  },
  {
   "cell_type": "code",
   "execution_count": null,
   "id": "399d7960",
   "metadata": {},
   "outputs": [],
   "source": [
    "# [3] Explain what does django-admin.py make messages command is used for?\n",
    "\n",
    "# makemessages. Runs over the entire source tree of the current directory and pulls out all strings marked for translation. \n",
    "# It creates (or updates) a message file in the conf/locale (in the Django tree) or locale (for project and application) directory."
   ]
  },
  {
   "cell_type": "code",
   "execution_count": null,
   "id": "18e91218",
   "metadata": {},
   "outputs": [],
   "source": [
    "# [4] What is Django URLs?make program to create django urls.\n",
    "\n",
    "# URLconf is a set of patterns that Django will try to match the requested URL to find the correct view.\n",
    "\n",
    "# from django.conf.urls import url\n",
    "# urlpatterns = [\n",
    "#     path('index/', index, name='index'),\n",
    "# ]"
   ]
  },
  {
   "cell_type": "code",
   "execution_count": null,
   "id": "3008b76f",
   "metadata": {},
   "outputs": [],
   "source": [
    "# [5]  What is a QuerySet?Write program to create a new Post object in database: \n",
    "\n",
    "# A QuerySet represents a collection of objects from your database.\n",
    "\n",
    "# from django.http import HttpResponse\n",
    "# from django.template import loader\n",
    "# from .models import Member\n",
    "\n",
    "# def testing(request):\n",
    "#   mydata = Member.objects.all()\n",
    "#   template = loader.get_template('template.html')\n",
    "#   context = {\n",
    "#     'mymembers': mydata,\n",
    "#   }\n",
    "#   return HttpResponse(template.render(context, request))"
   ]
  },
  {
   "cell_type": "code",
   "execution_count": null,
   "id": "d6d57ca5",
   "metadata": {},
   "outputs": [],
   "source": [
    "# [6]  Mention what command line can be used to load data into Django?\n",
    "\n",
    "# Django-admin.py loaddata"
   ]
  },
  {
   "cell_type": "code",
   "execution_count": null,
   "id": "c000083f",
   "metadata": {},
   "outputs": [],
   "source": [
    "# [7] Explain what does django-admin.py make messages command is used for?\n",
    "\n",
    "# makemessages. Runs over the entire source tree of the current directory and pulls out all strings marked for translation. \n",
    "# It creates (or updates) a message file in the conf/locale (in the Django tree) or locale (for project and application) directory."
   ]
  }
 ],
 "metadata": {
  "kernelspec": {
   "display_name": "Python 3 (ipykernel)",
   "language": "python",
   "name": "python3"
  },
  "language_info": {
   "codemirror_mode": {
    "name": "ipython",
    "version": 3
   },
   "file_extension": ".py",
   "mimetype": "text/x-python",
   "name": "python",
   "nbconvert_exporter": "python",
   "pygments_lexer": "ipython3",
   "version": "3.9.13"
  }
 },
 "nbformat": 4,
 "nbformat_minor": 5
}
